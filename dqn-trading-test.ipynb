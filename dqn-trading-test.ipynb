{
 "cells": [
  {
   "cell_type": "code",
   "execution_count": 5,
   "metadata": {},
   "outputs": [],
   "source": [
    "import numpy as np\n",
    "from collections import deque\n",
    "import rloutrading as rlou\n",
    "from importlib import reload"
   ]
  },
  {
   "cell_type": "code",
   "execution_count": 6,
   "metadata": {},
   "outputs": [],
   "source": [
    "# To-do: add softmax output"
   ]
  },
  {
   "cell_type": "code",
   "execution_count": 7,
   "metadata": {},
   "outputs": [],
   "source": [
    "def relu(x):\n",
    "    return np.maximum(0, x)"
   ]
  },
  {
   "cell_type": "code",
   "execution_count": 8,
   "metadata": {},
   "outputs": [],
   "source": [
    "n_actions = 11"
   ]
  },
  {
   "cell_type": "code",
   "execution_count": 9,
   "metadata": {},
   "outputs": [],
   "source": [
    "W1 = np.random.randn(4, 64)\n",
    "W2 = np.random.randn(64, 64)\n",
    "W3 = np.random.randn(64, 1)"
   ]
  },
  {
   "cell_type": "code",
   "execution_count": 10,
   "metadata": {},
   "outputs": [],
   "source": [
    "# t, q, x, a\n",
    "X = np.random.randn(2, 4)\n",
    "nn_output = relu(relu(X @ W1) @ W2) @ W3\n",
    "# nn_output = np.exp(nn_output) / np.exp(nn_output).sum()"
   ]
  },
  {
   "cell_type": "code",
   "execution_count": 11,
   "metadata": {},
   "outputs": [
    {
     "data": {
      "text/plain": [
       "array([[-33.42024432],\n",
       "       [-37.69515725]])"
      ]
     },
     "execution_count": 11,
     "metadata": {},
     "output_type": "execute_result"
    }
   ],
   "source": [
    "nn_output"
   ]
  },
  {
   "cell_type": "markdown",
   "metadata": {},
   "source": [
    "## Multidimensional \"pseudo\" DQN"
   ]
  },
  {
   "cell_type": "code",
   "execution_count": 12,
   "metadata": {},
   "outputs": [],
   "source": [
    "W1 = np.random.randn(3, 64)\n",
    "W2 = np.random.randn(64, 64)\n",
    "W3 = np.random.randn(64, n_actions)"
   ]
  },
  {
   "cell_type": "code",
   "execution_count": 13,
   "metadata": {},
   "outputs": [
    {
     "data": {
      "text/plain": [
       "array([[122.81682608, -52.54797939],\n",
       "       [ 63.2333288 ,  30.92966615]])"
      ]
     },
     "execution_count": 13,
     "metadata": {},
     "output_type": "execute_result"
    }
   ],
   "source": [
    "# t, q, x, a\n",
    "a = [5, 0]\n",
    "X = np.random.randn(2, 3)\n",
    "nn_output = relu(relu(X @ W1) @ W2) @ W3\n",
    "# nn_output = np.exp(nn_output) / np.exp(nn_output).sum()\n",
    "nn_output[:, a]"
   ]
  },
  {
   "cell_type": "code",
   "execution_count": 14,
   "metadata": {},
   "outputs": [],
   "source": [
    "def dqn_architecture(X, W):\n",
    "    pass"
   ]
  },
  {
   "cell_type": "code",
   "execution_count": 15,
   "metadata": {},
   "outputs": [],
   "source": [
    "replay_buffer = deque(maxlen=3)"
   ]
  },
  {
   "cell_type": "code",
   "execution_count": 16,
   "metadata": {},
   "outputs": [
    {
     "data": {
      "text/plain": [
       "2"
      ]
     },
     "execution_count": 16,
     "metadata": {},
     "output_type": "execute_result"
    }
   ],
   "source": [
    "actions = [0, 1, 1, 2, 3, 1, 0, 0, 1, 2, 1]\n",
    "actions[3]"
   ]
  },
  {
   "cell_type": "code",
   "execution_count": 17,
   "metadata": {},
   "outputs": [
    {
     "data": {
      "text/plain": [
       "deque([0])"
      ]
     },
     "execution_count": 17,
     "metadata": {},
     "output_type": "execute_result"
    }
   ],
   "source": [
    "replay_buffer.append(actions[0])\n",
    "replay_buffer"
   ]
  },
  {
   "cell_type": "code",
   "execution_count": 18,
   "metadata": {},
   "outputs": [
    {
     "data": {
      "text/plain": [
       "deque([0, 1])"
      ]
     },
     "execution_count": 18,
     "metadata": {},
     "output_type": "execute_result"
    }
   ],
   "source": [
    "replay_buffer.append(actions[1])\n",
    "replay_buffer"
   ]
  },
  {
   "cell_type": "code",
   "execution_count": 19,
   "metadata": {},
   "outputs": [
    {
     "data": {
      "text/plain": [
       "deque([0, 1, 1])"
      ]
     },
     "execution_count": 19,
     "metadata": {},
     "output_type": "execute_result"
    }
   ],
   "source": [
    "# start training\n",
    "replay_buffer.append(actions[2])\n",
    "replay_buffer"
   ]
  },
  {
   "cell_type": "code",
   "execution_count": 20,
   "metadata": {},
   "outputs": [
    {
     "data": {
      "text/plain": [
       "deque([1, 1, 2])"
      ]
     },
     "execution_count": 20,
     "metadata": {},
     "output_type": "execute_result"
    }
   ],
   "source": [
    "replay_buffer.append(actions[3])\n",
    "replay_buffer"
   ]
  },
  {
   "cell_type": "code",
   "execution_count": 21,
   "metadata": {},
   "outputs": [],
   "source": [
    "architecture = [4, 64, 64, 1]"
   ]
  },
  {
   "cell_type": "code",
   "execution_count": 22,
   "metadata": {},
   "outputs": [],
   "source": [
    "from numpy.random import randn"
   ]
  },
  {
   "cell_type": "code",
   "execution_count": 23,
   "metadata": {},
   "outputs": [],
   "source": [
    "weights = [randn(i, j) for i,j in zip(architecture[:-1], architecture[1:])]"
   ]
  },
  {
   "cell_type": "code",
   "execution_count": 439,
   "metadata": {},
   "outputs": [],
   "source": [
    "params ={'kappa': 5.0,\n",
    " 'sigma': 1.2,\n",
    " 'xbar': 100.0,\n",
    " 'phi': 0.01,\n",
    " 'gamma': 0.999,\n",
    " 'c': 2.0,\n",
    " 'T': 3.0,\n",
    " 'dt': 0.1,\n",
    " 'C': 200000.0,\n",
    " 'D': 200000.0,\n",
    " \"n_batches\": 10,\n",
    "  #\"config\": [4, 64, 64, 1],\n",
    "   \"config\": 64,\n",
    "   \"buffer_size\": 30}"
   ]
  },
  {
   "cell_type": "code",
   "execution_count": 440,
   "metadata": {},
   "outputs": [],
   "source": [
    "reload(rlou)\n",
    "dqntr = rlou.DQNTrading(**params, inventory_min=-4, inventory_max=4,\n",
    "                        buy_max=2,buy_min=-2,n_price=40)"
   ]
  },
  {
   "cell_type": "code",
   "execution_count": 429,
   "metadata": {},
   "outputs": [],
   "source": [
    "dqntr.run_episode(0)"
   ]
  },
  {
   "cell_type": "code",
   "execution_count": 414,
   "metadata": {},
   "outputs": [],
   "source": [
    "%load_ext line_profiler"
   ]
  },
  {
   "cell_type": "code",
   "execution_count": 420,
   "metadata": {},
   "outputs": [
    {
     "name": "stderr",
     "output_type": "stream",
     "text": [
      "100%|██████████| 2/2 [00:06<00:00,  3.34s/it]\n"
     ]
    }
   ],
   "source": [
    "%lprun -f dqntr.learn_step -f dqntr.step_in_episode dqntr.q_learn(2, random_shock=True)"
   ]
  },
  {
   "cell_type": "code",
   "execution_count": 441,
   "metadata": {},
   "outputs": [
    {
     "name": "stderr",
     "output_type": "stream",
     "text": [
      "100%|██████████| 50/50 [00:17<00:00,  2.79it/s]\n"
     ]
    }
   ],
   "source": [
    "dqntr.q_learn(50, random_shock=True)"
   ]
  },
  {
   "cell_type": "code",
   "execution_count": 433,
   "metadata": {},
   "outputs": [],
   "source": [
    "import matplotlib.pyplot as plt"
   ]
  },
  {
   "cell_type": "code",
   "execution_count": 442,
   "metadata": {},
   "outputs": [
    {
     "data": {
      "text/plain": [
       "[<matplotlib.lines.Line2D at 0x7fd6b39b8d50>]"
      ]
     },
     "execution_count": 442,
     "metadata": {},
     "output_type": "execute_result"
    },
    {
     "data": {
      "image/png": "[encoded data removed]",
      "text/plain": [
       "<Figure size 432x288 with 1 Axes>"
      ]
     },
     "metadata": {
      "needs_background": "light"
     },
     "output_type": "display_data"
    }
   ],
   "source": [
    "plt.plot(dqntr.error_history)"
   ]
  },
  {
   "cell_type": "code",
   "execution_count": 26,
   "metadata": {},
   "outputs": [],
   "source": [
    "def Q(t, q, x, a):\n",
    "    input_value = np.array([t, q, x, a])\n",
    "    return input_value"
   ]
  },
  {
   "cell_type": "code",
   "execution_count": 27,
   "metadata": {},
   "outputs": [
    {
     "data": {
      "text/plain": [
       "array([[2699.72648865]])"
      ]
     },
     "execution_count": 27,
     "metadata": {},
     "output_type": "execute_result"
    }
   ],
   "source": [
    "n_layers = len(dqntr.weights)\n",
    "t, q, x, a =  0, 0, 100.5, 3\n",
    "input_value = np.array([t, q, x, a])\n",
    "\n",
    "x_out = input_value[None, :]\n",
    "for l, Wl in enumerate(dqntr.weights):\n",
    "    x_out = x_out @ Wl\n",
    "    if l != n_layers - 1:\n",
    "        x_out = relu(x_out)\n",
    "    \n",
    "x_out"
   ]
  },
  {
   "cell_type": "code",
   "execution_count": 133,
   "metadata": {},
   "outputs": [],
   "source": [
    "Xt = dqntr.simulate_ou_process(nsims=1)"
   ]
  },
  {
   "cell_type": "code",
   "execution_count": 214,
   "metadata": {},
   "outputs": [],
   "source": [
    "class FFNet(nn.Module):\n",
    "    def __init__(self, config):\n",
    "        super(FFNet, self).__init__()\n",
    "        self.config = config\n",
    "        self.n_layers = len(config) - 1\n",
    "        self.layers = self._initialize_layers()\n",
    "        self.parameters = nn.ParameterList([layer for layer in self.layers])\n",
    "        self.relu = nn.ReLU()\n",
    "        \n",
    "    def _initialize_layers(self):\n",
    "        config_zip = zip(self.config[:-1], self.config[1:])\n",
    "        layers = [nn.Linear(i, j) for i,j in config_zip]\n",
    "        return layers\n",
    "\n",
    "    def forward(self, x):\n",
    "        h = x\n",
    "        for l, Wl in enumerate(self.layers[:-1]):\n",
    "            h = self.relu(Wl(h))\n",
    "        y = self.layers[-1](h)\n",
    "        \n",
    "        return y"
   ]
  },
  {
   "cell_type": "code",
   "execution_count": 387,
   "metadata": {},
   "outputs": [],
   "source": [
    "class FFNet(nn.Module):\n",
    "    def __init__(self, n ):\n",
    "        super(FFNet, self).__init__()\n",
    "        \n",
    "        # 2 input layer (t,S), 1 output channel, 2 hidden layers with n units each\n",
    "        self.layer1 = nn.Linear(4, n)\n",
    "        self.layer2 = nn.Linear(n, n)\n",
    "        self.layer3 = nn.Linear(n, 1)\n",
    "        self.relu = nn.ReLU()\n",
    "\n",
    "    def forward(self, x):\n",
    "        h1 = self.relu(self.layer1(x))\n",
    "        h2 = self.relu(self.layer2(h1))\n",
    "        y = self.layer3(h2)\n",
    "        \n",
    "        return y"
   ]
  },
  {
   "cell_type": "code",
   "execution_count": 388,
   "metadata": {},
   "outputs": [
    {
     "data": {
      "text/plain": [
       "tensor([[-0.0937],\n",
       "        [ 0.0970],\n",
       "        [-0.0678],\n",
       "        [ 0.0736],\n",
       "        [ 0.1635]], grad_fn=<AddmmBackward>)"
      ]
     },
     "execution_count": 388,
     "metadata": {},
     "output_type": "execute_result"
    }
   ],
   "source": [
    "net = FFNet(64)\n",
    "net.forward(torch.randn(5, 4))"
   ]
  },
  {
   "cell_type": "code",
   "execution_count": 392,
   "metadata": {},
   "outputs": [],
   "source": [
    "X_in = torch.randn(5,4)"
   ]
  },
  {
   "cell_type": "code",
   "execution_count": 393,
   "metadata": {},
   "outputs": [
    {
     "data": {
      "text/plain": [
       "tensor([[-0.0656],\n",
       "        [ 0.1075],\n",
       "        [ 0.0441],\n",
       "        [ 0.1495],\n",
       "        [ 0.1653]], grad_fn=<AddmmBackward>)"
      ]
     },
     "execution_count": 393,
     "metadata": {},
     "output_type": "execute_result"
    }
   ],
   "source": [
    "net(X_in)"
   ]
  },
  {
   "cell_type": "code",
   "execution_count": 394,
   "metadata": {},
   "outputs": [
    {
     "data": {
      "text/plain": [
       "tensor([[-0.0656],\n",
       "        [ 0.1075],\n",
       "        [ 0.0441],\n",
       "        [ 0.1495],\n",
       "        [ 0.1653]], grad_fn=<AddmmBackward>)"
      ]
     },
     "execution_count": 394,
     "metadata": {},
     "output_type": "execute_result"
    }
   ],
   "source": [
    "net.forward(X_in)"
   ]
  },
  {
   "cell_type": "code",
   "execution_count": 300,
   "metadata": {},
   "outputs": [
    {
     "data": {
      "text/plain": [
       "tensor([[0.0757],\n",
       "        [0.0795],\n",
       "        [0.0973],\n",
       "        [0.1339],\n",
       "        [0.0288]], grad_fn=<AddmmBackward>)"
      ]
     },
     "execution_count": 300,
     "metadata": {},
     "output_type": "execute_result"
    }
   ],
   "source": [
    "X_in = np.random.randn(5, 4)\n",
    "net.forward(torch.tensor(X_in).float())"
   ]
  },
  {
   "cell_type": "code",
   "execution_count": 244,
   "metadata": {},
   "outputs": [],
   "source": [
    "class MyNet(nn.Module):\n",
    "\n",
    "    def __init__(self, n ):\n",
    "        super(MyNet, self).__init__()\n",
    "        \n",
    "        # 2 input layer (t,S), 1 output channel, 2 hidden layers with n units each\n",
    "        self.f_in_to_h1 = nn.Linear( 2 , n)\n",
    "        self.f_h1_to_h2 = nn.Linear(n, n)\n",
    "        self.f_h2_to_out = nn.Linear(n, 1)\n",
    "        self.myReLU = nn.ReLU()\n",
    "\n",
    "    def forward(self, x):\n",
    "        \n",
    "        # input into 1st hidden layer\n",
    "        h1 = nn.ReLU()(self.f_in_to_h1(x) )\n",
    "        \n",
    "        # 1st hidden to 2nd hidden layer\n",
    "        h2 = self.myReLU(self.f_h1_to_h2(h1))\n",
    "            \n",
    "        # 2nd hidden layer to output layer\n",
    "        y = self.f_h2_to_out(h2)\n",
    "        \n",
    "        return y"
   ]
  },
  {
   "cell_type": "code",
   "execution_count": 291,
   "metadata": {},
   "outputs": [],
   "source": [
    "net = MyNet(80)"
   ]
  },
  {
   "cell_type": "code",
   "execution_count": 292,
   "metadata": {},
   "outputs": [],
   "source": [
    "buffer_size = 3\n",
    "replay_buffer = deque(maxlen=buffer_size)"
   ]
  },
  {
   "cell_type": "code",
   "execution_count": 257,
   "metadata": {},
   "outputs": [],
   "source": [
    "stage = (0.1, 10, 100.2), 2, 0.5, (0.2, 12, 100.3)\n",
    "replay_buffer.append(stage)"
   ]
  },
  {
   "cell_type": "code",
   "execution_count": 258,
   "metadata": {},
   "outputs": [
    {
     "data": {
      "text/plain": [
       "deque([((0.1, 10, 100.2), 2, 0.5, (0.2, 12, 100.3)),\n",
       "       ((0.1, 10, 100.2), 2, 0.5, (0.2, 12, 100.3))])"
      ]
     },
     "execution_count": 258,
     "metadata": {},
     "output_type": "execute_result"
    }
   ],
   "source": [
    "replay_buffer"
   ]
  }
 ],
 "metadata": {
  "kernelspec": {
   "display_name": "pytorch",
   "language": "python",
   "name": "pytorch"
  },
  "language_info": {
   "codemirror_mode": {
    "name": "ipython",
    "version": 3
   },
   "file_extension": ".py",
   "mimetype": "text/x-python",
   "name": "python",
   "nbconvert_exporter": "python",
   "pygments_lexer": "ipython3",
   "version": "3.7.9"
  }
 },
 "nbformat": 4,
 "nbformat_minor": 4
}

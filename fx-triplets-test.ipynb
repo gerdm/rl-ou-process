{
 "cells": [
  {
   "cell_type": "code",
   "execution_count": 1,
   "metadata": {},
   "outputs": [],
   "source": [
    "import numpy as np\n",
    "from numpy.random import randn\n",
    "from collections import deque\n",
    "#import rloutrading as rlou\n",
    "import fx_triplets_trading as fx_triplet\n",
    "from importlib import reload\n",
    "import matplotlib.pyplot as plt\n",
    "import torch"
   ]
  },
  {
   "cell_type": "markdown",
   "metadata": {},
   "source": [
    "## DQN TRIPLETS"
   ]
  },
  {
   "cell_type": "code",
   "execution_count": 2,
   "metadata": {},
   "outputs": [],
   "source": [
    "EURUSD = {\n",
    "    'x_0' : 1.1 , \n",
    "    'x_min' : 0.9, \n",
    "    'x_max' : 1.3, \n",
    "    'buy_min' : -5, \n",
    "    'buy_max': 5, \n",
    "    'inventory_min' : -10, \n",
    "    'inventory_max' : 10, \n",
    "    'n_decimals_price' : 5, \n",
    "    'n_price' : 40, \n",
    "    'd_q': 0.5\n",
    "}\n",
    "\n",
    "\n",
    "GBPUSD = {\n",
    "    'x_0' : 1.3 , \n",
    "    'x_min' : 1.1, \n",
    "    'x_max' : 1.5, \n",
    "    'buy_min' : -5, \n",
    "    'buy_max': 5, \n",
    "    'inventory_min' : -10, \n",
    "    'inventory_max' : 10, \n",
    "    'n_decimals_price' : 5, \n",
    "    'n_price' : 40, \n",
    "    'd_q' :  0.5\n",
    "}\n",
    "\n",
    "\n",
    "params = {\n",
    "'a' : np.array([1.1,1.3]),\n",
    "'B' : np.array([[0.01, -0.03],[-0.04, 0.01]]),\n",
    "'c' : 0.1,\n",
    "'rho' : np.array([0.1,0.1]),\n",
    "'phi' : np.array([0.005,0.005]),\n",
    "'alpha' : np.array([0.01,0.01]), \n",
    " 'T': 2.0,\n",
    " 'dt': 0.2,\n",
    " 'e_C': 20000.0,\n",
    " 'e_D': 20000.0,\n",
    " 'l_A': 20000.0,\n",
    " 'l_B': 20000.0,\n",
    "'eps_0' : 0.20, \n",
    "'n_decimals_time' :4, \n",
    "'K_replacement_freq' : 10, \n",
    "'delta' : 0.001, \n",
    "\"n_batches\": 64, #32\n",
    "\"config\": 16, \n",
    "\"buffer_size\": 1_000\n",
    "}"
   ]
  },
  {
   "cell_type": "code",
   "execution_count": 4,
   "metadata": {},
   "outputs": [],
   "source": [
    "reload(fx_triplet)\n",
    "\n",
    "EURUSD_pair = fx_triplet.PairFX(**EURUSD)\n",
    "GBPUSD_pair = fx_triplet.PairFX(**GBPUSD)\n",
    "\n",
    "dqntr = fx_triplet.DQN_Triplets(**params,\n",
    "                                pair_1 = EURUSD_pair,\n",
    "                                pair_2 = GBPUSD_pair, d_q = 0.5)\n",
    "\n",
    "for i in range(dqntr.n_batches):\n",
    "    dqntr.d_run_episode(i, 0.01)"
   ]
  },
  {
   "cell_type": "code",
   "execution_count": 5,
   "metadata": {
    "scrolled": true
   },
   "outputs": [
    {
     "name": "stderr",
     "output_type": "stream",
     "text": [
      "100%|██████████| 200/200 [02:05<00:00,  1.59it/s]\n"
     ]
    }
   ],
   "source": [
    "iterations = 200\n",
    "dqntr.K_replacement_freq = 500\n",
    "dqntr.delta = 1/(iterations*10)\n",
    "dqntr.optimizer.lr= 5e-9\n",
    "dqntr.dq_learn(iterations, random_shock=True)"
   ]
  },
  {
   "cell_type": "code",
   "execution_count": 409,
   "metadata": {},
   "outputs": [],
   "source": [
    "def create_landscape(model, pair, fixed_time, fixed_price, fixed_q,\n",
    "                 fixed_action, price_grid=100):\n",
    "    \"\"\"\n",
    "    Create the choice landscape for the FX-triples models for variying pair1 and fixed pair2\n",
    "    \n",
    "    Parameters\n",
    "    ----------\n",
    "    model: DQN_Triplets\n",
    "        Triplets instance\n",
    "    pair: PairFX\n",
    "        Instance of the varying pair\n",
    "    fixed_time: float\n",
    "        Time to evaluate the landscape\n",
    "    fixed_price: float\n",
    "        Fixed price for the second pair\n",
    "    fixed_q: float\n",
    "        Fixed inventory for the second pair\n",
    "    fixed_action: float\n",
    "        Fixed action for the second pair\n",
    "    price_grid: int\n",
    "        Number of points to evaluate between pair.x_min\n",
    "        and pair.x_max\n",
    "    \n",
    "    Returns\n",
    "    -------\n",
    "    torch.Tensor: choice landscape of options of size\n",
    "                  (3, n_action, n_inventory)\n",
    "                  The last entry of the first dimension\n",
    "                  makes references to the actions taken\n",
    "    \"\"\"\n",
    "    x_min, x_max = pair.x_min, pair.x_max\n",
    "    q_min, q_max = pair.inventory_min, pair.inventory_max\n",
    "    a_min, a_max = pair.buy_min, pair.buy_max\n",
    "    it =(model.timesteps == fixed_time).argmax()\n",
    "    d_q = pair.d_q\n",
    "    d_price = (x_max - x_min) / price_grid\n",
    "    \n",
    "    prices = torch.arange(x_min, x_max + d_price, d_price)\n",
    "    inventory = torch.arange(q_min, q_max + d_q, d_q)\n",
    "    \n",
    "    for ix_price, p1 in enumerate(prices.tolist()):\n",
    "        for ix_inventory, q1 in enumerate(inventory.tolist()):\n",
    "            possible_actions = torch.tensor(model.get_possible_actions(it, q1, pair))\n",
    "            n_actions = len(possible_actions)\n",
    "            # t, p1, p2, q1, q2, a1, a2\n",
    "            input_tensor = torch.tensor([[t, p1, fixed_price, q1, fixed_q, action, fixed_action]\n",
    "                                          for action in possible_actions])    \n",
    "            X_in[ix_price, ix_inventory, :n_actions] = input_tensor\n",
    "    \n",
    "    # Map of indices of actions\n",
    "    action_map = model.Q_M.forward(X_in)[..., -1].argmax(axis=-1)\n",
    "    # From indices to values\n",
    "    all_actions = dqntr.get_possible_actions(0, 0, pair)\n",
    "    all_actions = action_map.apply_(lambda ix: int(all_actions[ix]))\n",
    "    # Meshgrid of values\n",
    "    X1, X2 = torch.meshgrid(prices, inventory)\n",
    "    choice_landscape = torch.stack((X1, X2, action_map))\n",
    "    return choice_landscape"
   ]
  },
  {
   "cell_type": "code",
   "execution_count": 406,
   "metadata": {},
   "outputs": [],
   "source": [
    "pair = EURUSD_pair"
   ]
  },
  {
   "cell_type": "code",
   "execution_count": 411,
   "metadata": {},
   "outputs": [
    {
     "data": {
      "text/plain": [
       "<matplotlib.colorbar.Colorbar at 0x7fb701ce21c0>"
      ]
     },
     "execution_count": 411,
     "metadata": {},
     "output_type": "execute_result"
    },
    {
     "data": {
      "image/png": "[encoded data removed]",
      "text/plain": [
       "<Figure size 432x288 with 2 Axes>"
      ]
     },
     "metadata": {
      "needs_background": "light"
     },
     "output_type": "display_data"
    }
   ],
   "source": [
    "t, x, q, a = 0, 0, 0, 0\n",
    "action_map = create_landscape(dqntr, pair, t, x, q, a)\n",
    "\n",
    "plt.contourf(*action_map, cmap=\"RdBu\")\n",
    "plt.xlabel(\"Prices\")\n",
    "plt.ylabel(\"Inventory\")\n",
    "plt.colorbar(label=\"action\")"
   ]
  },
  {
   "cell_type": "code",
   "execution_count": 416,
   "metadata": {},
   "outputs": [
    {
     "data": {
      "image/png": "[encoded data removed]",
      "text/plain": [
       "<Figure size 432x288 with 4 Axes>"
      ]
     },
     "metadata": {
      "needs_background": "light"
     },
     "output_type": "display_data"
    }
   ],
   "source": [
    "t_values = [0, 0.1, 0.5, 1]\n",
    "fig, ax = plt.subplots(2, 2)\n",
    "ax = ax.ravel()\n",
    "\n",
    "x, q, a = 0, 0, 0\n",
    "for axi, t in zip(ax, t_values):\n",
    "    action_map = create_landscape(dqntr, pair, t, x, q, a)\n",
    "\n",
    "    axi.contourf(*action_map, cmap=\"RdBu\")\n",
    "    axi.set_xlabel(\"Prices\")\n",
    "    axi.set_ylabel(\"Inventory\")\n",
    "plt.tight_layout()"
   ]
  },
  {
   "cell_type": "code",
   "execution_count": 403,
   "metadata": {
    "scrolled": false
   },
   "outputs": [
    {
     "data": {
      "text/plain": [
       "[<matplotlib.lines.Line2D at 0x7fb7030330d0>]"
      ]
     },
     "execution_count": 403,
     "metadata": {},
     "output_type": "execute_result"
    },
    {
     "data": {
      "image/png": "[encoded data removed]",
      "text/plain": [
       "<Figure size 432x288 with 1 Axes>"
      ]
     },
     "metadata": {
      "needs_background": "light"
     },
     "output_type": "display_data"
    }
   ],
   "source": [
    "plt.plot(dqntr.error_history[:]) #"
   ]
  },
  {
   "cell_type": "code",
   "execution_count": 91,
   "metadata": {},
   "outputs": [],
   "source": [
    "torch.save(dqntr.Q_M.state_dict(), \"model_14112020_v2.pt\")"
   ]
  }
 ],
 "metadata": {
  "kernelspec": {
   "display_name": "Python 3",
   "language": "python",
   "name": "python3"
  },
  "language_info": {
   "codemirror_mode": {
    "name": "ipython",
    "version": 3
   },
   "file_extension": ".py",
   "mimetype": "text/x-python",
   "name": "python",
   "nbconvert_exporter": "python",
   "pygments_lexer": "ipython3",
   "version": "3.8.3"
  }
 },
 "nbformat": 4,
 "nbformat_minor": 4
}

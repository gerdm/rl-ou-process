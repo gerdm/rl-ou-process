{
 "cells": [
  {
   "cell_type": "markdown",
   "metadata": {},
   "source": [
    "# Q-Trading "
   ]
  },
  {
   "cell_type": "code",
   "execution_count": 199,
   "metadata": {},
   "outputs": [],
   "source": [
    "import xarray as xr\n",
    "import seaborn as sns\n",
    "import numpy as np\n",
    "import matplotlib.pyplot as plt\n",
    "import rloutrading as rlou\n",
    "from importlib import reload"
   ]
  },
  {
   "cell_type": "code",
   "execution_count": 200,
   "metadata": {},
   "outputs": [
    {
     "name": "stdout",
     "output_type": "stream",
     "text": [
      "The line_profiler extension is already loaded. To reload it, use:\n",
      "  %reload_ext line_profiler\n"
     ]
    }
   ],
   "source": [
    "%config InlineBackend.figure_format = \"retina\"\n",
    "%load_ext line_profiler"
   ]
  },
  {
   "cell_type": "code",
   "execution_count": 222,
   "metadata": {},
   "outputs": [],
   "source": [
    "reload(rlou)\n",
    "\n",
    "kappa, sigma, xbar, phi, gamma, c, T, dt, A, B, C, D = 1, 0.2000, 100, 0.0100, 0.9, 0.3000, 2, 0.1, 20, 20, 20, 20\n",
    "\n",
    "qtr = rlou.QTrading(kappa, sigma, xbar, phi, gamma, c, T, dt, A, B, C, D)\n",
    "\n",
    "# N-simulation episodios, time, inventory, action\n",
    "reward = qtr.simulate_reward_matrix();"
   ]
  },
  {
   "cell_type": "code",
   "execution_count": 224,
   "metadata": {},
   "outputs": [
    {
     "name": "stderr",
     "output_type": "stream",
     "text": [
      "100%|██████████| 15000/15000 [01:18<00:00, 191.09it/s]\n"
     ]
    }
   ],
   "source": [
    "%lprun -f qtr.get_Q_update_value -f qtr.step_in_episode -u 1 qtr.q_learn(15_000, random_shock=True)"
   ]
  },
  {
   "cell_type": "code",
   "execution_count": 212,
   "metadata": {},
   "outputs": [
    {
     "name": "stderr",
     "output_type": "stream",
     "text": [
      "100%|██████████| 500/500 [00:19<00:00, 26.11it/s]\n"
     ]
    }
   ],
   "source": [
    "%lprun -f qtr.get_Q_update_value -f qtr.step_in_episode -u 1 qtr.q_learn(500, random_shock=True)"
   ]
  },
  {
   "cell_type": "code",
   "execution_count": 194,
   "metadata": {},
   "outputs": [
    {
     "name": "stderr",
     "output_type": "stream",
     "text": [
      "100%|██████████| 500/500 [00:23<00:00, 21.13it/s]\n"
     ]
    }
   ],
   "source": [
    "%lprun -f qtr.get_Q_update_value -f qtr.step_in_episode -u 1 qtr.q_learn(500, random_shock=True)"
   ]
  },
  {
   "cell_type": "code",
   "execution_count": 13,
   "metadata": {},
   "outputs": [],
   "source": [
    "Qm = xr.load_dataarray(\"Q-trading.nc\")"
   ]
  }
 ],
 "metadata": {
  "kernelspec": {
   "display_name": "Python 3",
   "language": "python",
   "name": "python3"
  },
  "language_info": {
   "codemirror_mode": {
    "name": "ipython",
    "version": 3
   },
   "file_extension": ".py",
   "mimetype": "text/x-python",
   "name": "python",
   "nbconvert_exporter": "python",
   "pygments_lexer": "ipython3",
   "version": "3.7.7"
  }
 },
 "nbformat": 4,
 "nbformat_minor": 4
}
